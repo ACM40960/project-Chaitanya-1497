{
 "cells": [
  {
   "cell_type": "code",
   "execution_count": 1,
   "id": "18b96643",
   "metadata": {},
   "outputs": [],
   "source": [
    "import tensorflow as tf\n",
    "from tensorflow.keras.models import Sequential\n",
    "from tensorflow.keras.metrics import Precision, Recall, AUC\n",
    "from tensorflow.keras.layers import Conv2D, MaxPooling2D, Flatten, Dense, Dropout, BatchNormalization, Activation\n",
    "from tensorflow.keras.callbacks import EarlyStopping, ReduceLROnPlateau, TensorBoard, CSVLogger\n",
    "from tensorflow.keras.regularizers import l1, l2\n",
    "from tensorflow.keras.preprocessing.image import ImageDataGenerator\n",
    "from PIL import Image\n",
    "import matplotlib.pyplot as plt"
   ]
  },
  {
   "cell_type": "code",
   "execution_count": 2,
   "id": "e94922e5",
   "metadata": {},
   "outputs": [
    {
     "name": "stdout",
     "output_type": "stream",
     "text": [
      "Found 22048 images belonging to 2 classes.\n",
      "Found 5510 images belonging to 2 classes.\n",
      "Found 15832 images belonging to 2 classes.\n"
     ]
    }
   ],
   "source": [
    "# Data augmentation configuration for training data\n",
    "train_datagen = ImageDataGenerator(\n",
    "    rescale=1./255,             # Rescale pixel values to [0, 1]\n",
    "    rotation_range=30,          # Rotate images randomly by up to 30 degrees\n",
    "    width_shift_range=0.2,      # Shift images horizontally by up to 20% of the width\n",
    "    height_shift_range=0.2,     # Shift images vertically by up to 20% of the height\n",
    "    shear_range=0.2,            # Apply shear transformations\n",
    "    zoom_range=0.3,             # Apply zoom transformations\n",
    "    horizontal_flip=True,       # Flip images horizontally\n",
    "    fill_mode='nearest',        # Fill new pixels with the nearest available pixel\n",
    "    brightness_range=(0.5, 1.5),  # Adjust brightness of images\n",
    "    validation_split=0.2        # Specify the validation split here\n",
    ")\n",
    "\n",
    "#Data preprocessing\n",
    "test_datagen = ImageDataGenerator(\n",
    "    rescale=1./255             # Rescale pixel values to [0, 1]\n",
    ")\n",
    "\n",
    "# Generating training data generator\n",
    "training_set = train_datagen.flow_from_directory(\n",
    "    'MalariaCells/training_set',  # Path to the training dataset\n",
    "    target_size=(64, 64),      # Set the target size (width, height) for resizing\n",
    "    batch_size=220,            # Number of images in each batch\n",
    "    class_mode='binary',       # For binary classification\n",
    "    subset='training'          # Subset of the data (training portion)\n",
    ")\n",
    "\n",
    "# Generating validation data generator\n",
    "validation_set = train_datagen.flow_from_directory(\n",
    "    'MalariaCells/training_set',  # Path to the training dataset\n",
    "    target_size=(64, 64),      # Set the target size (width, height) for resizing\n",
    "    batch_size=50,             # Number of images in each batch\n",
    "    class_mode='binary',       # For binary classification\n",
    "    subset='validation'        # Subset of the data (validation portion)\n",
    ")\n",
    "\n",
    "# Generating testing data generator\n",
    "test_set = test_datagen.flow_from_directory(\n",
    "    'MalariaCells/testing_set',  # Path to the testing dataset\n",
    "    target_size=(64, 64),      # Set the target size (width, height) for resizing\n",
    "    batch_size=150,            # Number of images in each batch\n",
    "    class_mode='binary'        # For binary classification\n",
    ")\n"
   ]
  },
  {
   "cell_type": "code",
   "execution_count": 3,
   "id": "4cfa879f",
   "metadata": {},
   "outputs": [],
   "source": [
    "# Create a Sequential model\n",
    "model = Sequential([\n",
    "    # First Convolutional layer\n",
    "    Conv2D(filters=16, kernel_size=(4, 4), input_shape=(64, 64, 3)),\n",
    "    BatchNormalization(),  # Add BatchNormalization after Conv2D\n",
    "    Activation('relu'),    # Add Activation layer\n",
    "    MaxPooling2D(pool_size=(2, 2)),  # Max pooling\n",
    "    \n",
    "    # Second Convolutional layer\n",
    "    Conv2D(filters=32, kernel_size=(4, 4), kernel_regularizer=l2(0.01)),\n",
    "    BatchNormalization(),  # Add BatchNormalization after Conv2D\n",
    "    Activation('relu'),    # Add Activation layer\n",
    "    MaxPooling2D(pool_size=(2, 2)),  # Max pooling\n",
    "    \n",
    "    # Third Convolutional layer\n",
    "    Conv2D(filters=64, kernel_size=(4, 4), kernel_regularizer=l2(0.01)),\n",
    "    BatchNormalization(),  # Add BatchNormalization after Conv2D\n",
    "    Activation('relu'),    # Add Activation layer\n",
    "    MaxPooling2D(pool_size=(2, 2)),  # Max pooling\n",
    "    \n",
    "    # Fourth Convolutional layer\n",
    "    Conv2D(filters=128, kernel_size=(4, 4), kernel_regularizer=l2(0.01)),\n",
    "    BatchNormalization(),  # Add BatchNormalization after Conv2D\n",
    "    Activation('relu'),    # Add Activation layer\n",
    "    MaxPooling2D(pool_size=(2, 2)),  # Max pooling\n",
    "    \n",
    "    Flatten(),  # Flatten feature maps to 1D\n",
    "    Dense(32, activation = \"relu\"), # Fully connected layer with 32 neurons and ReLU activation\n",
    "    Dense(16, activation = \"relu\"), # Fully connected layer with 16 neurons and ReLU activation\n",
    "    Dense(1, activation='sigmoid')  # Fully connected layer for binary classification\n",
    "])"
   ]
  },
  {
   "cell_type": "code",
   "execution_count": 4,
   "id": "2ee549c7",
   "metadata": {
    "scrolled": true
   },
   "outputs": [
    {
     "name": "stdout",
     "output_type": "stream",
     "text": [
      "Model: \"sequential\"\n",
      "_________________________________________________________________\n",
      " Layer (type)                Output Shape              Param #   \n",
      "=================================================================\n",
      " conv2d (Conv2D)             (None, 61, 61, 16)        784       \n",
      "                                                                 \n",
      " batch_normalization (Batch  (None, 61, 61, 16)        64        \n",
      " Normalization)                                                  \n",
      "                                                                 \n",
      " activation (Activation)     (None, 61, 61, 16)        0         \n",
      "                                                                 \n",
      " max_pooling2d (MaxPooling2  (None, 30, 30, 16)        0         \n",
      " D)                                                              \n",
      "                                                                 \n",
      " conv2d_1 (Conv2D)           (None, 27, 27, 32)        8224      \n",
      "                                                                 \n",
      " batch_normalization_1 (Bat  (None, 27, 27, 32)        128       \n",
      " chNormalization)                                                \n",
      "                                                                 \n",
      " activation_1 (Activation)   (None, 27, 27, 32)        0         \n",
      "                                                                 \n",
      " max_pooling2d_1 (MaxPoolin  (None, 13, 13, 32)        0         \n",
      " g2D)                                                            \n",
      "                                                                 \n",
      " conv2d_2 (Conv2D)           (None, 10, 10, 64)        32832     \n",
      "                                                                 \n",
      " batch_normalization_2 (Bat  (None, 10, 10, 64)        256       \n",
      " chNormalization)                                                \n",
      "                                                                 \n",
      " activation_2 (Activation)   (None, 10, 10, 64)        0         \n",
      "                                                                 \n",
      " max_pooling2d_2 (MaxPoolin  (None, 5, 5, 64)          0         \n",
      " g2D)                                                            \n",
      "                                                                 \n",
      " conv2d_3 (Conv2D)           (None, 2, 2, 128)         131200    \n",
      "                                                                 \n",
      " batch_normalization_3 (Bat  (None, 2, 2, 128)         512       \n",
      " chNormalization)                                                \n",
      "                                                                 \n",
      " activation_3 (Activation)   (None, 2, 2, 128)         0         \n",
      "                                                                 \n",
      " max_pooling2d_3 (MaxPoolin  (None, 1, 1, 128)         0         \n",
      " g2D)                                                            \n",
      "                                                                 \n",
      " flatten (Flatten)           (None, 128)               0         \n",
      "                                                                 \n",
      " dense (Dense)               (None, 32)                4128      \n",
      "                                                                 \n",
      " dense_1 (Dense)             (None, 16)                528       \n",
      "                                                                 \n",
      " dense_2 (Dense)             (None, 1)                 17        \n",
      "                                                                 \n",
      "=================================================================\n",
      "Total params: 178673 (697.94 KB)\n",
      "Trainable params: 178193 (696.07 KB)\n",
      "Non-trainable params: 480 (1.88 KB)\n",
      "_________________________________________________________________\n"
     ]
    }
   ],
   "source": [
    "model.summary()"
   ]
  },
  {
   "cell_type": "code",
   "execution_count": null,
   "id": "6077b6a6",
   "metadata": {
    "scrolled": false
   },
   "outputs": [
    {
     "name": "stdout",
     "output_type": "stream",
     "text": [
      "Epoch 1/20\n",
      "101/101 [==============================] - 102s 987ms/step - loss: 1.2512 - accuracy: 0.7628 - precision: 0.7349 - recall: 0.8222 - auc: 0.8434 - val_loss: 1.2498 - val_accuracy: 0.5000 - val_precision: 0.5000 - val_recall: 1.0000 - val_auc: 0.7391 - lr: 0.0010\n",
      "Epoch 2/20\n",
      "101/101 [==============================] - 89s 888ms/step - loss: 0.4904 - accuracy: 0.8965 - precision: 0.8597 - recall: 0.9477 - auc: 0.9429 - val_loss: 1.2101 - val_accuracy: 0.5000 - val_precision: 0.5000 - val_recall: 1.0000 - val_auc: 0.8365 - lr: 0.0010\n",
      "Epoch 3/20\n",
      "101/101 [==============================] - 90s 894ms/step - loss: 0.3713 - accuracy: 0.9065 - precision: 0.8722 - recall: 0.9526 - auc: 0.9486 - val_loss: 1.2777 - val_accuracy: 0.5229 - val_precision: 0.5117 - val_recall: 1.0000 - val_auc: 0.8896 - lr: 0.0010\n",
      "Epoch 4/20\n",
      "101/101 [==============================] - 92s 908ms/step - loss: 0.3279 - accuracy: 0.9108 - precision: 0.8775 - recall: 0.9550 - auc: 0.9518 - val_loss: 0.4429 - val_accuracy: 0.8485 - val_precision: 0.7776 - val_recall: 0.9760 - val_auc: 0.9419 - lr: 0.0010\n",
      "Epoch 5/20\n",
      "101/101 [==============================] - 94s 932ms/step - loss: 0.3182 - accuracy: 0.9109 - precision: 0.8776 - recall: 0.9549 - auc: 0.9525 - val_loss: 0.3553 - val_accuracy: 0.8782 - val_precision: 0.8158 - val_recall: 0.9771 - val_auc: 0.9563 - lr: 0.0010\n",
      "Epoch 6/20\n",
      "101/101 [==============================] - 93s 924ms/step - loss: 0.3079 - accuracy: 0.9147 - precision: 0.8842 - recall: 0.9545 - auc: 0.9530 - val_loss: 0.3552 - val_accuracy: 0.8858 - val_precision: 0.8259 - val_recall: 0.9779 - val_auc: 0.9461 - lr: 0.0010\n",
      "Epoch 7/20\n",
      " 31/101 [========>.....................] - ETA: 1:03 - loss: 0.3084 - accuracy: 0.9148 - precision: 0.8809 - recall: 0.9562 - auc: 0.9524"
     ]
    }
   ],
   "source": [
    "# Compiling the model with Adam optimizer and metrics including accuracy and precision\n",
    "model.compile(optimizer='adam', loss='binary_crossentropy', metrics=['accuracy', Precision(name='precision'), Recall(name='recall'), AUC(name='auc')])\n",
    "\n",
    "# Define a callback to reduce the learning rate when validation loss plateaus\n",
    "reduce_lr = ReduceLROnPlateau(monitor='val_loss', factor=0.2, patience=2, verbose=1)\n",
    "\n",
    "# Train the model using the training set and validate using the validation set\n",
    "history = model.fit(training_set, epochs=20, validation_data=validation_set, callbacks=[reduce_lr])"
   ]
  },
  {
   "cell_type": "code",
   "execution_count": 122,
   "id": "4f3f3ce9",
   "metadata": {},
   "outputs": [
    {
     "data": {
      "image/png": "[encoded data removed]",
      "text/plain": [
       "<Figure size 432x288 with 1 Axes>"
      ]
     },
     "metadata": {
      "needs_background": "light"
     },
     "output_type": "display_data"
    },
    {
     "data": {
      "image/png": "[encoded data removed]",
      "text/plain": [
       "<Figure size 432x288 with 1 Axes>"
      ]
     },
     "metadata": {
      "needs_background": "light"
     },
     "output_type": "display_data"
    }
   ],
   "source": [
    "# Plot training & validation accuracy values\n",
    "plt.plot(history.history['accuracy'])\n",
    "plt.plot(history.history['val_accuracy'])\n",
    "#Adding title and labels to x and y axis\n",
    "plt.title('Model Accuracy')\n",
    "plt.xlabel('Epoch')\n",
    "plt.ylabel('Accuracy')\n",
    "plt.legend(['Train', 'Validation'], loc='lower right')\n",
    "plt.show()\n",
    "\n",
    "# Plot training & validation loss values\n",
    "plt.plot(history.history['loss'])\n",
    "plt.plot(history.history['val_loss'])\n",
    "#Adding title and labels to x and y axis\n",
    "plt.title('Model Loss')\n",
    "plt.xlabel('Epoch')\n",
    "plt.ylabel('Loss')\n",
    "plt.legend(['Train', 'Validation'], loc='lower right')\n",
    "plt.show()"
   ]
  },
  {
   "cell_type": "code",
   "execution_count": 123,
   "id": "92157e7b",
   "metadata": {
    "scrolled": true
   },
   "outputs": [
    {
     "name": "stdout",
     "output_type": "stream",
     "text": [
      "106/106 [==============================] - 19s 176ms/step - loss: 0.1577 - accuracy: 0.9521 - precision: 0.9514 - recall: 0.9523 - auc: 0.9875\n"
     ]
    }
   ],
   "source": [
    "loss,accuracy,precision,recall,auc = model.evaluate(test_set)"
   ]
  },
  {
   "cell_type": "code",
   "execution_count": 124,
   "id": "ffda6e41",
   "metadata": {},
   "outputs": [
    {
     "name": "stdout",
     "output_type": "stream",
     "text": [
      "Test accuracy: 0.9521\n",
      "Test precision: 0.9514\n",
      "Test recall: 0.9523\n",
      "Test AUC: 0.9875\n"
     ]
    }
   ],
   "source": [
    "print(f\"Test accuracy: {accuracy:.4f}\")\n",
    "print(f\"Test precision: {precision:.4f}\")\n",
    "print(f\"Test recall: {recall:.4f}\")\n",
    "print(f\"Test AUC: {auc:.4f}\")"
   ]
  },
  {
   "cell_type": "code",
   "execution_count": 125,
   "id": "e086047d",
   "metadata": {},
   "outputs": [
    {
     "name": "stderr",
     "output_type": "stream",
     "text": [
      "C:\\Users\\Chait\\anaconda3\\lib\\site-packages\\keras\\src\\engine\\training.py:3000: UserWarning: You are saving your model as an HDF5 file via `model.save()`. This file format is considered legacy. We recommend using instead the native Keras format, e.g. `model.save('my_model.keras')`.\n",
      "  saving_api.save_model(\n"
     ]
    }
   ],
   "source": [
    "model.save('model.h5')"
   ]
  },
  {
   "cell_type": "code",
   "execution_count": null,
   "id": "4b49f52b",
   "metadata": {},
   "outputs": [],
   "source": []
  }
 ],
 "metadata": {
  "kernelspec": {
   "display_name": "Python 3 (ipykernel)",
   "language": "python",
   "name": "python3"
  },
  "language_info": {
   "codemirror_mode": {
    "name": "ipython",
    "version": 3
   },
   "file_extension": ".py",
   "mimetype": "text/x-python",
   "name": "python",
   "nbconvert_exporter": "python",
   "pygments_lexer": "ipython3",
   "version": "3.11.4"
  }
 },
 "nbformat": 4,
 "nbformat_minor": 5
}
