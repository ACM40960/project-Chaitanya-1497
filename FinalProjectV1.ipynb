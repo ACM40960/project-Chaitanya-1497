{
  "cells": [
    {
      "cell_type": "code",
      "execution_count": null,
      "metadata": {
        "id": "0QrO39j7YhZf"
      },
      "outputs": [],
      "source": [
        "from tensorflow.keras.models import Sequential\n",
        "from tensorflow.keras.metrics import Precision, Recall, AUC\n",
        "from tensorflow.keras.layers import Conv2D, MaxPooling2D, Flatten, Dense, Dropout, BatchNormalization, Activation\n",
        "from tensorflow.keras.callbacks import EarlyStopping, ReduceLROnPlateau, TensorBoard, CSVLogger\n",
        "from tensorflow.keras.regularizers import l1, l2\n",
        "from tensorflow.keras.preprocessing.image import ImageDataGenerator\n",
        "from PIL import Image\n"
      ]
    },
    {
      "cell_type": "code",
      "execution_count": null,
      "metadata": {
        "colab": {
          "base_uri": "https://localhost:8080/"
        },
        "id": "tUSBQuvVZvwp",
        "outputId": "ef141ac3-b0f0-4346-e20f-7d48b8e9a232"
      },
      "outputs": [
        {
          "output_type": "stream",
          "name": "stdout",
          "text": [
            "Found 6965 images belonging to 2 classes.\n"
          ]
        }
      ],
      "source": [
        "\n",
        "# Data Preprocessing\n",
        "train_datagen = ImageDataGenerator(rescale=1./255)  # Normalize pixel values to [0, 1]\n",
        "test_datagen = ImageDataGenerator(rescale=1./255)\n",
        "\n",
        "training_set = train_datagen.flow_from_directory('/content/drive/MyDrive/Colab Notebooks/MalariaCells-2/training_set',\n",
        "                                                target_size=(64, 64),  # Set the target size (width, height) for resizing\n",
        "                                                batch_size=275,\n",
        "                                                class_mode='binary')  # For binary classification. Use 'categorical' for multi-class\n"
      ]
    },
    {
      "cell_type": "code",
      "source": [
        "\n",
        "test_set = test_datagen.flow_from_directory('/content/drive/MyDrive/Colab Notebooks/MalariaCells-2/testing_set',\n",
        "                                            target_size=(64, 64),\n",
        "                                            batch_size=150,\n",
        "                                            class_mode='binary')\n",
        "\n",
        "\n"
      ],
      "metadata": {
        "colab": {
          "base_uri": "https://localhost:8080/"
        },
        "id": "59Nu8hueR0tq",
        "outputId": "d9ed3ca0-8942-43ef-bf73-cf0c9a276aa1"
      },
      "execution_count": null,
      "outputs": [
        {
          "output_type": "stream",
          "name": "stdout",
          "text": [
            "Found 0 images belonging to 2 classes.\n"
          ]
        }
      ]
    },
    {
      "cell_type": "code",
      "execution_count": null,
      "metadata": {
        "id": "W4OUak43Z5Ml"
      },
      "outputs": [],
      "source": [
        "\n",
        "\n",
        "model = Sequential([\n",
        "    Conv2D(filters=8, kernel_size=(3, 3), input_shape=(64, 64, 3), activation='relu'),\n",
        "    MaxPooling2D(pool_size=(2, 2)),\n",
        "    Conv2D(filters=16, kernel_size=(3, 3), activation='relu'),\n",
        "    MaxPooling2D(pool_size=(2, 2)),\n",
        "    Conv2D(filters=16, kernel_size=(3,3), activation='relu'),\n",
        "    MaxPooling2D(pool_size=(2, 2)),\n",
        "    Flatten(),\n",
        "    Dense(1, activation='sigmoid'),\n",
        "    Dropout(0.1)\n",
        "])\n"
      ]
    },
    {
      "cell_type": "code",
      "execution_count": null,
      "metadata": {
        "id": "JfRYItwMZ80W",
        "colab": {
          "base_uri": "https://localhost:8080/",
          "height": 1000
        },
        "outputId": "a490ac24-2b9c-4d47-8628-8b742f7a7608"
      },
      "outputs": [
        {
          "output_type": "stream",
          "name": "stdout",
          "text": [
            "Found 6316 images belonging to 2 classes.\n",
            "Found 1579 images belonging to 2 classes.\n",
            "Found 0 images belonging to 2 classes.\n",
            "Model: \"sequential_2\"\n",
            "_________________________________________________________________\n",
            " Layer (type)                Output Shape              Param #   \n",
            "=================================================================\n",
            " conv2d_7 (Conv2D)           (None, 62, 62, 8)         224       \n",
            "                                                                 \n",
            " batch_normalization_4 (Batc  (None, 62, 62, 8)        32        \n",
            " hNormalization)                                                 \n",
            "                                                                 \n",
            " activation_4 (Activation)   (None, 62, 62, 8)         0         \n",
            "                                                                 \n",
            " max_pooling2d_7 (MaxPooling  (None, 31, 31, 8)        0         \n",
            " 2D)                                                             \n",
            "                                                                 \n",
            " conv2d_8 (Conv2D)           (None, 29, 29, 8)         584       \n",
            "                                                                 \n",
            " batch_normalization_5 (Batc  (None, 29, 29, 8)        32        \n",
            " hNormalization)                                                 \n",
            "                                                                 \n",
            " activation_5 (Activation)   (None, 29, 29, 8)         0         \n",
            "                                                                 \n",
            " max_pooling2d_8 (MaxPooling  (None, 14, 14, 8)        0         \n",
            " 2D)                                                             \n",
            "                                                                 \n",
            " conv2d_9 (Conv2D)           (None, 12, 12, 16)        1168      \n",
            "                                                                 \n",
            " batch_normalization_6 (Batc  (None, 12, 12, 16)       64        \n",
            " hNormalization)                                                 \n",
            "                                                                 \n",
            " activation_6 (Activation)   (None, 12, 12, 16)        0         \n",
            "                                                                 \n",
            " max_pooling2d_9 (MaxPooling  (None, 6, 6, 16)         0         \n",
            " 2D)                                                             \n",
            "                                                                 \n",
            " conv2d_10 (Conv2D)          (None, 4, 4, 16)          2320      \n",
            "                                                                 \n",
            " batch_normalization_7 (Batc  (None, 4, 4, 16)         64        \n",
            " hNormalization)                                                 \n",
            "                                                                 \n",
            " activation_7 (Activation)   (None, 4, 4, 16)          0         \n",
            "                                                                 \n",
            " max_pooling2d_10 (MaxPoolin  (None, 2, 2, 16)         0         \n",
            " g2D)                                                            \n",
            "                                                                 \n",
            " flatten_2 (Flatten)         (None, 64)                0         \n",
            "                                                                 \n",
            " dense_2 (Dense)             (None, 1)                 65        \n",
            "                                                                 \n",
            " dropout_2 (Dropout)         (None, 1)                 0         \n",
            "                                                                 \n",
            "=================================================================\n",
            "Total params: 4,553\n",
            "Trainable params: 4,457\n",
            "Non-trainable params: 96\n",
            "_________________________________________________________________\n",
            "Epoch 1/10\n",
            "29/29 [==============================] - 43s 1s/step - loss: 2.0084 - accuracy: 0.8461 - precision: 1.0000 - val_loss: 1.0008 - val_accuracy: 0.9063 - val_precision: 1.0000 - lr: 0.0010\n",
            "Epoch 2/10\n",
            "29/29 [==============================] - 39s 1s/step - loss: 1.7658 - accuracy: 0.9050 - precision: 1.0000 - val_loss: 1.0409 - val_accuracy: 0.0063 - val_precision: 1.0000 - lr: 0.0010\n",
            "Epoch 3/10\n",
            "29/29 [==============================] - ETA: 0s - loss: 1.8062 - accuracy: 0.8998 - precision: 1.0000\n",
            "Epoch 3: ReduceLROnPlateau reducing learning rate to 0.00020000000949949026.\n",
            "29/29 [==============================] - 34s 1s/step - loss: 1.8062 - accuracy: 0.8998 - precision: 1.0000 - val_loss: 1.0398 - val_accuracy: 6.3331e-04 - val_precision: 1.0000 - lr: 0.0010\n",
            "Epoch 4/10\n",
            "29/29 [==============================] - 34s 1s/step - loss: 1.7078 - accuracy: 0.9045 - precision: 1.0000 - val_loss: 1.0354 - val_accuracy: 0.0032 - val_precision: 1.0000 - lr: 2.0000e-04\n",
            "Epoch 5/10\n",
            "29/29 [==============================] - ETA: 0s - loss: 1.7875 - accuracy: 0.8988 - precision: 1.0000\n",
            "Epoch 5: ReduceLROnPlateau reducing learning rate to 4.0000001899898055e-05.\n",
            "29/29 [==============================] - 44s 2s/step - loss: 1.7875 - accuracy: 0.8988 - precision: 1.0000 - val_loss: 1.0061 - val_accuracy: 0.0405 - val_precision: 1.0000 - lr: 2.0000e-04\n",
            "Epoch 6/10\n",
            "29/29 [==============================] - 41s 1s/step - loss: 1.7872 - accuracy: 0.8985 - precision: 1.0000 - val_loss: 0.9485 - val_accuracy: 0.2730 - val_precision: 1.0000 - lr: 4.0000e-05\n",
            "Epoch 7/10\n",
            "29/29 [==============================] - 36s 1s/step - loss: 1.8099 - accuracy: 0.8969 - precision: 1.0000 - val_loss: 0.8603 - val_accuracy: 0.7505 - val_precision: 1.0000 - lr: 4.0000e-05\n",
            "Epoch 8/10\n",
            "29/29 [==============================] - 34s 1s/step - loss: 1.8251 - accuracy: 0.8958 - precision: 1.0000 - val_loss: 0.7511 - val_accuracy: 0.9569 - val_precision: 1.0000 - lr: 4.0000e-05\n",
            "Epoch 9/10\n",
            "29/29 [==============================] - 35s 1s/step - loss: 1.8597 - accuracy: 0.8934 - precision: 1.0000 - val_loss: 0.6334 - val_accuracy: 0.9861 - val_precision: 1.0000 - lr: 4.0000e-05\n",
            "Epoch 10/10\n",
            "29/29 [==============================] - 38s 1s/step - loss: 1.7819 - accuracy: 0.8984 - precision: 1.0000 - val_loss: 0.5217 - val_accuracy: 0.9968 - val_precision: 1.0000 - lr: 4.0000e-05\n"
          ]
        },
        {
          "output_type": "error",
          "ename": "ValueError",
          "evalue": "ignored",
          "traceback": [
            "\u001b[0;31m---------------------------------------------------------------------------\u001b[0m",
            "\u001b[0;31mValueError\u001b[0m                                Traceback (most recent call last)",
            "\u001b[0;32m<ipython-input-7-641356c8056c>\u001b[0m in \u001b[0;36m<cell line: 61>\u001b[0;34m()\u001b[0m\n\u001b[1;32m     59\u001b[0m                     callbacks=[reduce_lr])\n\u001b[1;32m     60\u001b[0m \u001b[0;34m\u001b[0m\u001b[0m\n\u001b[0;32m---> 61\u001b[0;31m \u001b[0mmodel\u001b[0m\u001b[0;34m.\u001b[0m\u001b[0mevaluate\u001b[0m\u001b[0;34m(\u001b[0m\u001b[0mtest_set\u001b[0m\u001b[0;34m)\u001b[0m\u001b[0;34m\u001b[0m\u001b[0;34m\u001b[0m\u001b[0m\n\u001b[0m\u001b[1;32m     62\u001b[0m \u001b[0;34m\u001b[0m\u001b[0m\n\u001b[1;32m     63\u001b[0m \u001b[0mprint\u001b[0m\u001b[0;34m(\u001b[0m\u001b[0;34mf\"Test accuracy: {accuracy:.4f}\"\u001b[0m\u001b[0;34m)\u001b[0m\u001b[0;34m\u001b[0m\u001b[0;34m\u001b[0m\u001b[0m\n",
            "\u001b[0;32m/usr/local/lib/python3.10/dist-packages/keras/utils/traceback_utils.py\u001b[0m in \u001b[0;36merror_handler\u001b[0;34m(*args, **kwargs)\u001b[0m\n\u001b[1;32m     68\u001b[0m             \u001b[0;31m# To get the full stack trace, call:\u001b[0m\u001b[0;34m\u001b[0m\u001b[0;34m\u001b[0m\u001b[0m\n\u001b[1;32m     69\u001b[0m             \u001b[0;31m# `tf.debugging.disable_traceback_filtering()`\u001b[0m\u001b[0;34m\u001b[0m\u001b[0;34m\u001b[0m\u001b[0m\n\u001b[0;32m---> 70\u001b[0;31m             \u001b[0;32mraise\u001b[0m \u001b[0me\u001b[0m\u001b[0;34m.\u001b[0m\u001b[0mwith_traceback\u001b[0m\u001b[0;34m(\u001b[0m\u001b[0mfiltered_tb\u001b[0m\u001b[0;34m)\u001b[0m \u001b[0;32mfrom\u001b[0m \u001b[0;32mNone\u001b[0m\u001b[0;34m\u001b[0m\u001b[0;34m\u001b[0m\u001b[0m\n\u001b[0m\u001b[1;32m     71\u001b[0m         \u001b[0;32mfinally\u001b[0m\u001b[0;34m:\u001b[0m\u001b[0;34m\u001b[0m\u001b[0;34m\u001b[0m\u001b[0m\n\u001b[1;32m     72\u001b[0m             \u001b[0;32mdel\u001b[0m \u001b[0mfiltered_tb\u001b[0m\u001b[0;34m\u001b[0m\u001b[0;34m\u001b[0m\u001b[0m\n",
            "\u001b[0;32m/usr/local/lib/python3.10/dist-packages/keras/preprocessing/image.py\u001b[0m in \u001b[0;36m__getitem__\u001b[0;34m(self, idx)\u001b[0m\n\u001b[1;32m    101\u001b[0m     \u001b[0;32mdef\u001b[0m \u001b[0m__getitem__\u001b[0m\u001b[0;34m(\u001b[0m\u001b[0mself\u001b[0m\u001b[0;34m,\u001b[0m \u001b[0midx\u001b[0m\u001b[0;34m)\u001b[0m\u001b[0;34m:\u001b[0m\u001b[0;34m\u001b[0m\u001b[0;34m\u001b[0m\u001b[0m\n\u001b[1;32m    102\u001b[0m         \u001b[0;32mif\u001b[0m \u001b[0midx\u001b[0m \u001b[0;34m>=\u001b[0m \u001b[0mlen\u001b[0m\u001b[0;34m(\u001b[0m\u001b[0mself\u001b[0m\u001b[0;34m)\u001b[0m\u001b[0;34m:\u001b[0m\u001b[0;34m\u001b[0m\u001b[0;34m\u001b[0m\u001b[0m\n\u001b[0;32m--> 103\u001b[0;31m             raise ValueError(\n\u001b[0m\u001b[1;32m    104\u001b[0m                 \u001b[0;34m\"Asked to retrieve element {idx}, \"\u001b[0m\u001b[0;34m\u001b[0m\u001b[0;34m\u001b[0m\u001b[0m\n\u001b[1;32m    105\u001b[0m                 \u001b[0;34m\"but the Sequence \"\u001b[0m\u001b[0;34m\u001b[0m\u001b[0;34m\u001b[0m\u001b[0m\n",
            "\u001b[0;31mValueError\u001b[0m: Asked to retrieve element 0, but the Sequence has length 0"
          ]
        }
      ],
      "source": [
        "\n",
        "# Data Preprocessing\n",
        "train_datagen = ImageDataGenerator(rescale=1./255, validation_split=0.2)  # Normalize pixel values to [0, 1]\n",
        "test_datagen = ImageDataGenerator(rescale=1./255)\n",
        "\n",
        "training_set = train_datagen.flow_from_directory('/content/drive/MyDrive/Colab Notebooks/MalariaCells-2/training_set',\n",
        "                                                target_size=(64, 64),  # Set the target size (width, height) for resizing\n",
        "                                                batch_size=220,\n",
        "                                                class_mode='binary',\n",
        "                                                subset='training')  # For binary classification. Use 'categorical' for multi-class\n",
        "\n",
        "validation_set = train_datagen.flow_from_directory('/content/drive/MyDrive/Colab Notebooks/MalariaCells-2/training_set',\n",
        "                                                target_size=(64, 64),  # Set the target size (width, height) for resizing\n",
        "                                                batch_size=50,\n",
        "                                                class_mode='binary',\n",
        "                                                subset='validation')  # For binary classification. Use 'categorical' for multi-class\n",
        "\n",
        "\n",
        "test_set = test_datagen.flow_from_directory('/content/drive/MyDrive/Colab Notebooks/MalariaCells-2/testing_set',\n",
        "                                            target_size=(64, 64),\n",
        "                                            batch_size=150,\n",
        "                                            class_mode='binary')\n",
        "\n",
        "\n",
        "model = Sequential([\n",
        "    Conv2D(filters=8, kernel_size=(3, 3), input_shape=(64, 64, 3)),\n",
        "    BatchNormalization(),  # Add BatchNormalization after Conv2D\n",
        "    Activation('relu'),    # Add Activation layer\n",
        "    MaxPooling2D(pool_size=(2, 2)),\n",
        "\n",
        "    Conv2D(filters=8, kernel_size=(3, 3),kernel_regularizer=l2(0.01)),\n",
        "    BatchNormalization(),  # Add BatchNormalization after Conv2D\n",
        "    Activation('relu'),    # Add Activation layer\n",
        "    MaxPooling2D(pool_size=(2, 2)),\n",
        "\n",
        "    Conv2D(filters=16, kernel_size=(3, 3),kernel_regularizer=l2(0.01)),\n",
        "    BatchNormalization(),  # Add BatchNormalization after Conv2D\n",
        "    Activation('relu'),    # Add Activation layer\n",
        "    MaxPooling2D(pool_size=(2, 2)),\n",
        "\n",
        "    Conv2D(filters=16, kernel_size=(3, 3),kernel_regularizer=l2(0.01)),\n",
        "    BatchNormalization(),  # Add BatchNormalization after Conv2D\n",
        "    Activation('relu'),    # Add Activation layer\n",
        "    MaxPooling2D(pool_size=(2, 2)),\n",
        "\n",
        "    Flatten(),\n",
        "    Dense(1, activation='sigmoid'),\n",
        "    Dropout(0.1)\n",
        "])\n",
        "\n",
        "\n",
        "model.summary()\n",
        "\n",
        "model.compile(optimizer='adam', loss='binary_crossentropy', metrics=['accuracy', Precision(name='precision')])\n",
        "\n",
        "reduce_lr = ReduceLROnPlateau(monitor='val_loss', factor=0.2, patience=2, verbose=1)\n",
        "\n",
        "# Train the model\n",
        "model.fit(training_set, epochs=10,validation_data=validation_set,\n",
        "                    callbacks=[reduce_lr])\n",
        "\n",
        "model.evaluate(test_set)\n",
        "\n",
        "print(f\"Test accuracy: {accuracy:.4f}\")"
      ]
    },
    {
      "cell_type": "code",
      "source": [
        "import matplotlib.pyplot as plt\n",
        "\n",
        "# Train the model and store the training history\n",
        "history = model.fit(training_set, epochs=10, validation_data=validation_set, callbacks=[reduce_lr])\n",
        "\n",
        "# Plot training & validation accuracy values\n",
        "plt.plot(history.history['accuracy'])\n",
        "plt.plot(history.history['val_accuracy'])\n",
        "plt.title('Model Accuracy')\n",
        "plt.xlabel('Epoch')\n",
        "plt.ylabel('Accuracy')\n",
        "plt.legend(['Train', 'Validation'], loc='upper left')\n",
        "plt.show()\n",
        "\n",
        "# Plot training & validation loss values\n",
        "plt.plot(history.history['loss'])\n",
        "plt.plot(history.history['val_loss'])\n",
        "plt.title('Model Loss')\n",
        "plt.xlabel('Epoch')\n",
        "plt.ylabel('Loss')\n",
        "plt.legend(['Train', 'Validation'], loc='upper left')\n",
        "plt.show()\n"
      ],
      "metadata": {
        "colab": {
          "base_uri": "https://localhost:8080/",
          "height": 1000
        },
        "id": "E12hV9R0SKBL",
        "outputId": "7ac43da1-6bba-48fa-a43d-39273103fdcf"
      },
      "execution_count": null,
      "outputs": [
        {
          "output_type": "stream",
          "name": "stdout",
          "text": [
            "Epoch 1/10\n",
            "29/29 [==============================] - 38s 1s/step - loss: 1.7603 - accuracy: 0.8996 - precision: 1.0000 - val_loss: 0.4286 - val_accuracy: 1.0000 - val_precision: 1.0000 - lr: 4.0000e-05\n",
            "Epoch 2/10\n",
            "29/29 [==============================] - 34s 1s/step - loss: 1.8046 - accuracy: 0.8966 - precision: 1.0000 - val_loss: 0.3584 - val_accuracy: 1.0000 - val_precision: 1.0000 - lr: 4.0000e-05\n",
            "Epoch 3/10\n",
            "29/29 [==============================] - 35s 1s/step - loss: 1.7828 - accuracy: 0.8979 - precision: 1.0000 - val_loss: 0.3094 - val_accuracy: 1.0000 - val_precision: 1.0000 - lr: 4.0000e-05\n",
            "Epoch 4/10\n",
            "29/29 [==============================] - 33s 1s/step - loss: 1.7366 - accuracy: 0.9007 - precision: 1.0000 - val_loss: 0.2761 - val_accuracy: 1.0000 - val_precision: 1.0000 - lr: 4.0000e-05\n",
            "Epoch 5/10\n",
            "29/29 [==============================] - 33s 1s/step - loss: 1.6953 - accuracy: 0.9033 - precision: 1.0000 - val_loss: 0.2537 - val_accuracy: 1.0000 - val_precision: 1.0000 - lr: 4.0000e-05\n",
            "Epoch 6/10\n",
            "29/29 [==============================] - 34s 1s/step - loss: 1.8395 - accuracy: 0.8938 - precision: 1.0000 - val_loss: 0.2385 - val_accuracy: 1.0000 - val_precision: 1.0000 - lr: 4.0000e-05\n",
            "Epoch 7/10\n",
            "29/29 [==============================] - 38s 1s/step - loss: 1.8127 - accuracy: 0.8953 - precision: 1.0000 - val_loss: 0.2277 - val_accuracy: 1.0000 - val_precision: 1.0000 - lr: 4.0000e-05\n",
            "Epoch 8/10\n",
            "29/29 [==============================] - 33s 1s/step - loss: 1.7786 - accuracy: 0.8974 - precision: 1.0000 - val_loss: 0.2197 - val_accuracy: 1.0000 - val_precision: 1.0000 - lr: 4.0000e-05\n",
            "Epoch 9/10\n",
            "29/29 [==============================] - 39s 1s/step - loss: 1.8104 - accuracy: 0.8952 - precision: 1.0000 - val_loss: 0.2135 - val_accuracy: 1.0000 - val_precision: 1.0000 - lr: 4.0000e-05\n",
            "Epoch 10/10\n",
            "29/29 [==============================] - 39s 1s/step - loss: 1.7031 - accuracy: 0.9020 - precision: 1.0000 - val_loss: 0.2085 - val_accuracy: 1.0000 - val_precision: 1.0000 - lr: 4.0000e-05\n"
          ]
        },
        {
          "output_type": "display_data",
          "data": {
            "text/plain": [
              "<Figure size 640x480 with 1 Axes>"
            ],
            "image/png": "[encoded data removed]"
          },
          "metadata": {}
        },
        {
          "output_type": "display_data",
          "data": {
            "text/plain": [
              "<Figure size 640x480 with 1 Axes>"
            ],
            "image/png": "[encoded data removed]"
          },
          "metadata": {}
        }
      ]
    }
  ],
  "metadata": {
    "colab": {
      "provenance": []
    },
    "kernelspec": {
      "display_name": "Python 3",
      "name": "python3"
    },
    "language_info": {
      "name": "python"
    }
  },
  "nbformat": 4,
  "nbformat_minor": 0
}